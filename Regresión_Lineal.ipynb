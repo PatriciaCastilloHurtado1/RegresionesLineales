{
  "cells": [
    {
      "cell_type": "markdown",
      "metadata": {
        "id": "c7rArocVamiz"
      },
      "source": [
        "# Regresión Lineal\n",
        "\n",
        "## $$h_\\beta(x) = \\beta_0 + \\beta_1x_1 + \\beta_2x_2 + ... + \\beta_nx_n$$\n",
        "\n",
        "- $h_\\beta(x)$ es la respuesta\n",
        "- $\\beta_0$ es el intercepto\n",
        "- $\\beta_1$ coeficiente para $x_1$ (el primer feature)\n",
        "- $\\beta_n$ coeficiente para $x_n$ (el nth feature)\n",
        "\n",
        "Los valores $\\beta$ con llamados **model coefficients**:\n",
        "\n",
        "- Estos valores se obtienen en el entramiento del algoritmo a través de la técnica Mínimos Cuadrados o **least squares criterion**.\n",
        "- La línea de estimación que se encuentra reduce la suma de erroes al cuadrados **sum of squared residuals** (SSR).\n",
        "- Con los coeficientes se puede hacer la estimación.\n",
        "![0](https://upload.wikimedia.org/wikipedia/commons/3/3a/Linear_regression.svg)\n",
        "\n",
        "![1](https://raw.githubusercontent.com/justmarkham/DAT8/master/notebooks/images/estimating_coefficients.png)\n",
        "\n",
        "En este diagrama:\n",
        "\n",
        "- Los puntos negros son los valores observados **observed values** de x e y.\n",
        "- La línea azul es la línea de estimación de Mínimos Cuadrados **least squares line**.\n",
        "- Las líneas rojas son los errores **residuals**, es la distancia entre la línea de estimación y los valores observados."
      ]
    },
    {
      "cell_type": "markdown",
      "metadata": {
        "id": "nvbD8DTIami7"
      },
      "source": [
        "# Modelos de Regresión Lineal\n",
        "## 1) Modelo con datos simulados\n",
        "* $y = a + b * x$\n",
        "* $X$ : 100 valores distribuídos según una N(1.5, 2.5)\n",
        "* $Y_\\epsilon = 5 + 1.9 * x + \\epsilon $\n",
        "* $\\epsilon$ estará distribuído según una N(0, 0.8)"
      ]
    },
    {
      "cell_type": "code",
      "execution_count": null,
      "metadata": {
        "id": "NjEJFOLKamjA"
      },
      "outputs": [],
      "source": [
        "import pandas as pd\n",
        "import numpy as np"
      ]
    },
    {
      "cell_type": "code",
      "execution_count": null,
      "metadata": {
        "id": "-4SDBY8FamjL"
      },
      "outputs": [],
      "source": [
        "x = 1.5 + 2.5 * np.random.randn(100)"
      ]
    },
    {
      "cell_type": "code",
      "execution_count": null,
      "metadata": {
        "id": "IJQZXaL3amjM"
      },
      "outputs": [],
      "source": [
        "res = 0 + 0.8 * np.random.randn(100)"
      ]
    },
    {
      "cell_type": "code",
      "execution_count": null,
      "metadata": {
        "id": "QyomftzEamjN"
      },
      "outputs": [],
      "source": [
        "y_pred = 5 + 0.3 * x"
      ]
    },
    {
      "cell_type": "code",
      "execution_count": null,
      "metadata": {
        "id": "UlKaQzNdamjO"
      },
      "outputs": [],
      "source": [
        "y_act = 5 + 0.3 * x + res"
      ]
    },
    {
      "cell_type": "code",
      "execution_count": null,
      "metadata": {
        "id": "zpOXSb5eamjP"
      },
      "outputs": [],
      "source": [
        "x_list = x.tolist()\n",
        "y_pred_list = y_pred.tolist()\n",
        "y_act_list = y_act.tolist()"
      ]
    },
    {
      "cell_type": "code",
      "execution_count": null,
      "metadata": {
        "id": "yVy21YAHamjQ"
      },
      "outputs": [],
      "source": [
        "data = pd.DataFrame(\n",
        "    {\n",
        "        \"x\":x_list,\n",
        "        \"y_actual\":y_act_list,\n",
        "        \"y_prediccion\":y_pred_list\n",
        "    }\n",
        ")"
      ]
    },
    {
      "cell_type": "code",
      "execution_count": null,
      "metadata": {
        "id": "hAvRSTmtamjS"
      },
      "outputs": [],
      "source": [
        "data.head()"
      ]
    },
    {
      "cell_type": "code",
      "execution_count": null,
      "metadata": {
        "id": "3FDG70ssamjT"
      },
      "outputs": [],
      "source": [
        "import matplotlib.pyplot as plt"
      ]
    },
    {
      "cell_type": "code",
      "execution_count": null,
      "metadata": {
        "id": "nHakcIhbamjT"
      },
      "outputs": [],
      "source": [
        "y_mean = [np.mean(y_act) for i in range(1, len(x_list) + 1)]"
      ]
    },
    {
      "cell_type": "code",
      "execution_count": null,
      "metadata": {
        "id": "736-eI54amjU"
      },
      "outputs": [],
      "source": [
        "%matplotlib inline\n",
        "plt.plot(data[\"x\"],data[\"y_prediccion\"])\n",
        "plt.plot(data[\"x\"], data[\"y_actual\"], \"ro\")\n",
        "plt.plot(data[\"x\"],y_mean, \"g\")\n",
        "plt.title(\"Valor Actual vs Predicción\")"
      ]
    },
    {
      "cell_type": "markdown",
      "metadata": {
        "id": "l92tAn6UamjV"
      },
      "source": [
        "## ¿Cuan precisa es la predicción?\n",
        "* SST = SSD + SSR\n",
        "* SST : Variabilidad de los datos con respecto de su media\n",
        "* SSD : Diferencia entre los datos originales y las predicciones que el modelo no es capaz de explicar (errores que deberían seguir una distribución normal)\n",
        "* SSR : Diferencia entre la regresión y el valor medio que el modelo busca explicar\n",
        "* R2 = SSR / SST, coeficiente de determinación entre 0 y 1"
      ]
    },
    {
      "cell_type": "code",
      "execution_count": null,
      "metadata": {
        "id": "W7JbExaoamjV"
      },
      "outputs": [],
      "source": [
        "y_m = np.mean(y_act)\n",
        "data[\"SSR\"]=(data[\"y_prediccion\"]-y_m)**2\n",
        "data[\"SSD\"]=(data[\"y_prediccion\"]-data[\"y_actual\"])**2\n",
        "data[\"SST\"]=(data[\"y_actual\"]-y_m)**2"
      ]
    },
    {
      "cell_type": "code",
      "execution_count": null,
      "metadata": {
        "id": "KDehmQVUamjW"
      },
      "outputs": [],
      "source": [
        "data.head()"
      ]
    },
    {
      "cell_type": "code",
      "execution_count": null,
      "metadata": {
        "id": "ZrSGM5-eamjW"
      },
      "outputs": [],
      "source": [
        "SSR = sum(data[\"SSR\"])\n",
        "SSD = sum(data[\"SSD\"])\n",
        "SST = sum(data[\"SST\"])"
      ]
    },
    {
      "cell_type": "code",
      "execution_count": null,
      "metadata": {
        "id": "2uWNlq01amjX"
      },
      "outputs": [],
      "source": [
        "SSR"
      ]
    },
    {
      "cell_type": "code",
      "execution_count": null,
      "metadata": {
        "id": "I8Pgo_RlamjX"
      },
      "outputs": [],
      "source": [
        "SSD"
      ]
    },
    {
      "cell_type": "code",
      "execution_count": null,
      "metadata": {
        "id": "qy9kGNSPamjX"
      },
      "outputs": [],
      "source": [
        "SST"
      ]
    },
    {
      "cell_type": "code",
      "execution_count": null,
      "metadata": {
        "id": "MTBOWs_hamjY"
      },
      "outputs": [],
      "source": [
        "SSR+SSD"
      ]
    },
    {
      "cell_type": "code",
      "execution_count": null,
      "metadata": {
        "id": "1O2CbxrLamjY"
      },
      "outputs": [],
      "source": [
        "R2 = SSR/SST\n",
        "R2"
      ]
    },
    {
      "cell_type": "code",
      "execution_count": null,
      "metadata": {
        "id": "EFqnSzlRamjZ"
      },
      "outputs": [],
      "source": [
        "plt.hist(data[\"y_prediccion\"]-data[\"y_actual\"],bins=50)"
      ]
    },
    {
      "cell_type": "markdown",
      "metadata": {
        "id": "E3o23tE7amjZ"
      },
      "source": [
        "## Obteniendo la recta de regresión \n",
        "\n",
        "* $y = \\hat{\\alpha} + \\hat{\\beta} * x$\n",
        "$$\\hat{\\beta} = \\frac{\\sum(xi - x_m)*(y_i-y_m)}{\\sum(xi-x_m)^2}$$\n",
        "* $\\hat{\\alpha} = y_m - \\hat{\\beta} * x_m$"
      ]
    },
    {
      "cell_type": "code",
      "execution_count": null,
      "metadata": {
        "id": "xZ9_ZZm0amjZ"
      },
      "outputs": [],
      "source": [
        "x_mean = np.mean(data[\"x\"])\n",
        "y_mean = np.mean(data[\"y_actual\"])\n",
        "x_mean, y_mean"
      ]
    },
    {
      "cell_type": "code",
      "execution_count": null,
      "metadata": {
        "id": "s35AcWHBamjZ"
      },
      "outputs": [],
      "source": [
        "data[\"beta_n\"] = (data[\"x\"]-x_mean)*(data[\"y_actual\"]-y_mean)\n",
        "data[\"beta_d\"] = (data[\"x\"]-x_mean)**2"
      ]
    },
    {
      "cell_type": "code",
      "execution_count": null,
      "metadata": {
        "id": "MgWJ2hT6amja"
      },
      "outputs": [],
      "source": [
        "beta = sum(data[\"beta_n\"])/sum(data[\"beta_d\"])"
      ]
    },
    {
      "cell_type": "code",
      "execution_count": null,
      "metadata": {
        "id": "weDVibgNamja"
      },
      "outputs": [],
      "source": [
        "alpha = y_mean - beta * x_mean"
      ]
    },
    {
      "cell_type": "code",
      "execution_count": null,
      "metadata": {
        "id": "xrN5UmS5amja"
      },
      "outputs": [],
      "source": [
        "alpha, beta"
      ]
    },
    {
      "cell_type": "code",
      "execution_count": null,
      "metadata": {
        "id": "whUpsFZRamja"
      },
      "outputs": [],
      "source": [
        "data[\"y_model\"] = alpha + beta * data[\"x\"]"
      ]
    },
    {
      "cell_type": "code",
      "execution_count": null,
      "metadata": {
        "id": "-QPQdXEMamjb"
      },
      "outputs": [],
      "source": [
        "data.head()"
      ]
    },
    {
      "cell_type": "code",
      "execution_count": null,
      "metadata": {
        "id": "oCescHLMamjb"
      },
      "outputs": [],
      "source": [
        "SSR = sum((data[\"y_model\"]-y_mean)**2)\n",
        "SSD = sum((data[\"y_model\"]-data[\"y_actual\"])**2)\n",
        "SST = sum((data[\"y_actual\"]-y_mean)**2)"
      ]
    },
    {
      "cell_type": "code",
      "execution_count": null,
      "metadata": {
        "id": "xVQpa6e3amjb"
      },
      "outputs": [],
      "source": [
        "SSR, SSD, SST"
      ]
    },
    {
      "cell_type": "code",
      "execution_count": null,
      "metadata": {
        "id": "3QGWhpEYamjb"
      },
      "outputs": [],
      "source": [
        "R2 = SSR / SST\n",
        "R2"
      ]
    },
    {
      "cell_type": "code",
      "execution_count": null,
      "metadata": {
        "id": "BigEkWEeamjb"
      },
      "outputs": [],
      "source": [
        "y_mean = [np.mean(y_act) for i in range(1, len(x_list) + 1)]\n",
        "\n",
        "%matplotlib inline\n",
        "plt.plot(data[\"x\"],data[\"y_prediccion\"])\n",
        "plt.plot(data[\"x\"], data[\"y_actual\"], \"ro\")\n",
        "plt.plot(data[\"x\"],y_mean, \"g\")\n",
        "plt.plot(data[\"x\"], data[\"y_model\"])\n",
        "plt.title(\"Valor Actual vs Predicción\")"
      ]
    },
    {
      "cell_type": "markdown",
      "metadata": {
        "id": "aX3THOYNamjc"
      },
      "source": [
        "## Error estándar de los residuos (RSE)"
      ]
    },
    {
      "cell_type": "code",
      "execution_count": null,
      "metadata": {
        "id": "rO3EI5Teamjc"
      },
      "outputs": [],
      "source": [
        "RSE = np.sqrt(SSD/(len(data)-2))\n",
        "RSE"
      ]
    },
    {
      "cell_type": "code",
      "execution_count": null,
      "metadata": {
        "id": "DHWSUCOwamjc"
      },
      "outputs": [],
      "source": [
        "np.mean(data[\"y_actual\"])"
      ]
    },
    {
      "cell_type": "code",
      "execution_count": null,
      "metadata": {
        "id": "Q1tfTC7Yamjd"
      },
      "outputs": [],
      "source": [
        "RSE / np.mean(data[\"y_actual\"])"
      ]
    },
    {
      "cell_type": "markdown",
      "metadata": {
        "id": "nxVb8zgLamjn"
      },
      "source": [
        "# Regresión lineal simple en Python\n",
        "## 2) El paquete statsmodel para regresión lineal"
      ]
    },
    {
      "cell_type": "code",
      "execution_count": null,
      "metadata": {
        "id": "3x98M_xtamjo"
      },
      "outputs": [],
      "source": [
        "main=\"F:/LAMBDA/Software Python/Clase 3/Data/\""
      ]
    },
    {
      "cell_type": "code",
      "execution_count": null,
      "metadata": {
        "id": "Ya5TmY1pamjo"
      },
      "outputs": [],
      "source": [
        "data = pd.read_csv(main+\"Advertising.csv\")\n",
        "data.__class__"
      ]
    },
    {
      "cell_type": "code",
      "execution_count": null,
      "metadata": {
        "id": "NkMh7iwfamjo"
      },
      "outputs": [],
      "source": [
        "from __future__ import print_function\n",
        "from statsmodels.compat import lzip\n",
        "import statsmodels\n",
        "import statsmodels.formula.api as smf\n",
        "import statsmodels.stats.api as sms\n",
        "import matplotlib.pyplot as plt"
      ]
    },
    {
      "cell_type": "code",
      "execution_count": null,
      "metadata": {
        "id": "C6DeiLgZamjo"
      },
      "outputs": [],
      "source": [
        "lm = smf.ols(formula=\"Sales~TV\", data = data).fit()"
      ]
    },
    {
      "cell_type": "code",
      "execution_count": null,
      "metadata": {
        "id": "YfS3-FqMamjp"
      },
      "outputs": [],
      "source": [
        "lm.summary()"
      ]
    },
    {
      "cell_type": "code",
      "execution_count": null,
      "metadata": {
        "id": "avZc3x7Eamjp"
      },
      "outputs": [],
      "source": [
        "lm.params"
      ]
    },
    {
      "cell_type": "code",
      "execution_count": null,
      "metadata": {
        "id": "ixek7Ngsamjp"
      },
      "outputs": [],
      "source": [
        "lm.pvalues"
      ]
    },
    {
      "cell_type": "code",
      "execution_count": null,
      "metadata": {
        "id": "yHaPecaJamjp"
      },
      "outputs": [],
      "source": [
        "lm.rsquared"
      ]
    },
    {
      "cell_type": "code",
      "execution_count": null,
      "metadata": {
        "id": "TZuH6-hmamjq"
      },
      "outputs": [],
      "source": [
        "lm.rsquared_adj"
      ]
    },
    {
      "cell_type": "code",
      "execution_count": null,
      "metadata": {
        "id": "8xdbtRZVamjq"
      },
      "outputs": [],
      "source": [
        "lm.cov_HC0"
      ]
    },
    {
      "cell_type": "code",
      "execution_count": null,
      "metadata": {
        "id": "zrUcH7GHamjq"
      },
      "outputs": [],
      "source": [
        "pd.DataFrame(lm.params)"
      ]
    },
    {
      "cell_type": "code",
      "execution_count": null,
      "metadata": {
        "id": "pSbkg4-Bamjq"
      },
      "outputs": [],
      "source": [
        "print(lm.summary())"
      ]
    },
    {
      "cell_type": "code",
      "execution_count": null,
      "metadata": {
        "id": "dg82eUqNamjq"
      },
      "outputs": [],
      "source": [
        "sales_pred = lm.predict(pd.DataFrame(data[\"TV\"]))\n",
        "sales_pred"
      ]
    },
    {
      "cell_type": "code",
      "execution_count": null,
      "metadata": {
        "id": "Xikt4ZuDamjr"
      },
      "outputs": [],
      "source": [
        "import matplotlib.pyplot as plt"
      ]
    },
    {
      "cell_type": "code",
      "execution_count": null,
      "metadata": {
        "id": "3UeD5tj1amjr"
      },
      "outputs": [],
      "source": [
        "%matplotlib inline\n",
        "data.plot(kind = \"scatter\", x = \"TV\", y =\"Sales\")\n",
        "plt.plot(pd.DataFrame(data[\"TV\"]), sales_pred, c=\"red\", linewidth = 2)"
      ]
    },
    {
      "cell_type": "code",
      "execution_count": null,
      "metadata": {
        "id": "tPZZfW0gamjr"
      },
      "outputs": [],
      "source": [
        "data[\"sales_pred\"] = 7.032594 + 0.047537*data[\"TV\"]"
      ]
    },
    {
      "cell_type": "code",
      "execution_count": null,
      "metadata": {
        "id": "soEZ40Tgamjr"
      },
      "outputs": [],
      "source": [
        "data[\"RSE\"] = (data[\"Sales\"]-data[\"sales_pred\"])**2"
      ]
    },
    {
      "cell_type": "code",
      "execution_count": null,
      "metadata": {
        "id": "3BcSYObOamjs"
      },
      "outputs": [],
      "source": [
        "SSD = sum(data[\"RSE\"])\n",
        "SSD"
      ]
    },
    {
      "cell_type": "code",
      "execution_count": null,
      "metadata": {
        "id": "DoSIteakamjs"
      },
      "outputs": [],
      "source": [
        "RSE = np.sqrt(SSD/(len(data)-2))\n",
        "RSE"
      ]
    },
    {
      "cell_type": "code",
      "execution_count": null,
      "metadata": {
        "id": "pKwUGBKcamjs"
      },
      "outputs": [],
      "source": [
        "sales_m = np.mean(data[\"Sales\"])\n",
        "sales_m"
      ]
    },
    {
      "cell_type": "code",
      "execution_count": null,
      "metadata": {
        "id": "UNoUV6R5amjs"
      },
      "outputs": [],
      "source": [
        "error = RSE/sales_m\n",
        "error"
      ]
    },
    {
      "cell_type": "code",
      "execution_count": null,
      "metadata": {
        "id": "-kXYIb4Qamjs"
      },
      "outputs": [],
      "source": [
        "plt.hist((data[\"Sales\"]-data[\"sales_pred\"]), bins=50)"
      ]
    },
    {
      "cell_type": "markdown",
      "metadata": {
        "id": "kYif1eBGamjt"
      },
      "source": [
        "# Regresión lineal múltiple en Python\n",
        "## El paquete statsmodel para regresión múltiple\n",
        "* Sales ~TV\n",
        "* Sales ~Newspaper\n",
        "* Sales ~Radio\n",
        "* Sales ~TV+Newspaper\n",
        "* Sales ~TV+Radio\n",
        "* Sales ~Newspaper+Radio\n",
        "* Sales ~TV+Newspaper+Radio"
      ]
    },
    {
      "cell_type": "code",
      "execution_count": null,
      "metadata": {
        "id": "99dovwDramjt"
      },
      "outputs": [],
      "source": [
        "#Añadir el Newspaper al modelo existente\n",
        "lm2 = smf.ols(formula=\"Sales~TV+Newspaper\", data = data).fit()"
      ]
    },
    {
      "cell_type": "code",
      "execution_count": null,
      "metadata": {
        "id": "b-zsJ2mramjt"
      },
      "outputs": [],
      "source": [
        "print(lm2.summary())"
      ]
    },
    {
      "cell_type": "code",
      "execution_count": null,
      "metadata": {
        "id": "UeTIdzW8amjt"
      },
      "outputs": [],
      "source": [
        "sales_pred = lm2.predict(data[[\"TV\", \"Newspaper\"]])"
      ]
    },
    {
      "cell_type": "code",
      "execution_count": null,
      "metadata": {
        "id": "gwFiQDRcamjt"
      },
      "outputs": [],
      "source": [
        "#Añadir la Radio al modelo existente\n",
        "lm3 = smf.ols(formula=\"Sales~TV+Radio\", data = data).fit()"
      ]
    },
    {
      "cell_type": "code",
      "execution_count": null,
      "metadata": {
        "id": "buYyrg3Oamju"
      },
      "outputs": [],
      "source": [
        "print(lm3.summary())"
      ]
    },
    {
      "cell_type": "code",
      "execution_count": null,
      "metadata": {
        "id": "vq-U4Xqqamju"
      },
      "outputs": [],
      "source": [
        "#Añadir la Radio al modelo existente\n",
        "lm4 = smf.ols(formula=\"Sales~TV+Radio+Newspaper\", data = data).fit()"
      ]
    },
    {
      "cell_type": "code",
      "execution_count": null,
      "metadata": {
        "id": "IhMJpppiamju"
      },
      "outputs": [],
      "source": [
        "print(lm4.summary())"
      ]
    },
    {
      "cell_type": "code",
      "execution_count": null,
      "metadata": {
        "id": "8jHhZpzSamju"
      },
      "outputs": [],
      "source": [
        "sales_pred = lm4.predict(data[[\"TV\", \"Radio\",\"Newspaper\"]])\n",
        "SSD = sum((data[\"Sales\"]-sales_pred)**2)\n",
        "RSE = np.sqrt(SSD/(len(data)-3-1))"
      ]
    },
    {
      "cell_type": "code",
      "execution_count": null,
      "metadata": {
        "id": "7dLtJ2E4amju"
      },
      "outputs": [],
      "source": [
        "RSE"
      ]
    },
    {
      "cell_type": "code",
      "execution_count": null,
      "metadata": {
        "id": "L6BtMNnramjv"
      },
      "outputs": [],
      "source": [
        "RSE/sales_m"
      ]
    },
    {
      "cell_type": "markdown",
      "metadata": {
        "id": "aCmh6lRIamjv"
      },
      "source": [
        "# Modelo de regresión lineal con Python\n",
        "## 3) Validación de los supuestos"
      ]
    },
    {
      "cell_type": "code",
      "execution_count": null,
      "metadata": {
        "id": "fMw9xQMPamjv"
      },
      "outputs": [],
      "source": [
        "import statsmodels.stats.api as sms"
      ]
    },
    {
      "cell_type": "markdown",
      "metadata": {
        "id": "R-1T74cbamjv"
      },
      "source": [
        "### a) Bondad de ajuste"
      ]
    },
    {
      "cell_type": "code",
      "execution_count": null,
      "metadata": {
        "id": "_Mdvswcsamjv"
      },
      "outputs": [],
      "source": [
        "# Mayores valor en los R2\n",
        "lm2.rsquared, lm2.rsquared_adj"
      ]
    },
    {
      "cell_type": "code",
      "execution_count": null,
      "metadata": {
        "id": "BhacBn1iamjw"
      },
      "outputs": [],
      "source": [
        "## Menores criterios de información\n",
        "lm2.aic, lm2.bic"
      ]
    },
    {
      "cell_type": "markdown",
      "metadata": {
        "id": "Vhp1zVIIamjw"
      },
      "source": [
        "### b) Multicolinealidad \n",
        "#### Factor Inflación de la Varianza\n",
        "* VIF = 1 : Las variables no están correlacionadas\n",
        "* VIF < 5 : Las variables tienen una correlación moderada y se pueden quedar en el modelo\n",
        "* VIF >5 : Las variables están altamente correlacionadas y deben desaparecer del modelo."
      ]
    },
    {
      "cell_type": "code",
      "execution_count": null,
      "metadata": {
        "id": "pinCmE8bamjw"
      },
      "outputs": [],
      "source": [
        "# Newspaper ~ TV + Radio -> R^2 VIF = 1/(1-R^2)\n",
        "lm_n = smf.ols(formula=\"Newspaper~TV+Radio\", data = data).fit()\n",
        "rsquared_n = lm_n.rsquared\n",
        "VIF = 1/(1-rsquared_n)\n",
        "VIF"
      ]
    },
    {
      "cell_type": "code",
      "execution_count": null,
      "metadata": {
        "id": "07MQ6GRpamjw"
      },
      "outputs": [],
      "source": [
        "# TV ~ Newspaper + Radio -> R^2 VIF = 1/(1-R^2)\n",
        "lm_tv = smf.ols(formula=\"TV~Newspaper+Radio\", data=data).fit()\n",
        "rsquared_tv = lm_tv.rsquared\n",
        "VIF = 1/(1-rsquared_tv)\n",
        "VIF"
      ]
    },
    {
      "cell_type": "code",
      "execution_count": null,
      "metadata": {
        "id": "l9HcHssCamjw"
      },
      "outputs": [],
      "source": [
        "# Radio ~ TV + Newspaper -> R^2 VIF = 1/(1-R^2)\n",
        "lm_r = smf.ols(formula=\"Radio~Newspaper+TV\", data=data).fit()\n",
        "rsquared_r = lm_r.rsquared\n",
        "VIF = 1/(1-rsquared_r)\n",
        "VIF"
      ]
    },
    {
      "cell_type": "markdown",
      "metadata": {
        "id": "a25q8qMGamjx"
      },
      "source": [
        "### c)Test de linealidad"
      ]
    },
    {
      "cell_type": "markdown",
      "metadata": {
        "id": "_WOtAxc5amjx"
      },
      "source": [
        "Test del Multiplicador de Harvey-Collier para la H0: la especificación lineal es correcta"
      ]
    },
    {
      "cell_type": "code",
      "execution_count": null,
      "metadata": {
        "id": "rqWhpmwlamjx"
      },
      "outputs": [],
      "source": [
        "name = ['t value', 'p value']\n",
        "test = sms.linear_harvey_collier(lm3)\n",
        "lzip(name, test)"
      ]
    },
    {
      "cell_type": "markdown",
      "metadata": {
        "id": "Dh7505JAamjx"
      },
      "source": [
        "### d) Test de Heteroscedasticidad"
      ]
    },
    {
      "cell_type": "code",
      "execution_count": null,
      "metadata": {
        "id": "6F2w4RUYamjx"
      },
      "outputs": [],
      "source": [
        "# Test de Breush-Pagan:\n",
        "name = ['Lagrange multiplier statistic', 'p-value', \n",
        "        'f-value', 'f p-value']\n",
        "test = sms.het_breuschpagan(lm3.resid, lm3.model.exog)\n",
        "lzip(name, test)"
      ]
    },
    {
      "cell_type": "code",
      "execution_count": null,
      "metadata": {
        "id": "LcKhkqmramjy"
      },
      "outputs": [],
      "source": [
        "# Test de Goldfeld-Quandt\n",
        "name = ['F statistic', 'p-value']\n",
        "test = sms.het_goldfeldquandt(lm3.resid, lm3.model.exog)\n",
        "lzip(name, test)"
      ]
    },
    {
      "cell_type": "markdown",
      "metadata": {
        "id": "OjsIWDjiamjy"
      },
      "source": [
        "### e) Test de Normalidad de los residuos"
      ]
    },
    {
      "cell_type": "code",
      "execution_count": null,
      "metadata": {
        "id": "V26gNgMOamjy"
      },
      "outputs": [],
      "source": [
        "# Test de Jarque Bera\n",
        "name = ['Jarque-Bera', 'Chi^2 two-tail prob.', 'Skew', 'Kurtosis']\n",
        "test = sms.jarque_bera(lm3.resid)\n",
        "lzip(name, test)"
      ]
    },
    {
      "cell_type": "code",
      "execution_count": null,
      "metadata": {
        "id": "FXwoyAL8amjy"
      },
      "outputs": [],
      "source": [
        "# Test de Omni\n",
        "name = ['Chi^2', 'Two-tail probability']\n",
        "test = sms.omni_normtest(lm3.resid)\n",
        "lzip(name, test)"
      ]
    },
    {
      "cell_type": "markdown",
      "metadata": {
        "id": "G_rfamqBamjz"
      },
      "source": [
        "# Modelo linear con Python\n",
        "## 4) Enfoque Data Science "
      ]
    },
    {
      "cell_type": "markdown",
      "metadata": {
        "id": "orI6FvgVamjz"
      },
      "source": [
        "#### a) Dividir el conjunto en entrenamiento y de testing"
      ]
    },
    {
      "cell_type": "code",
      "execution_count": null,
      "metadata": {
        "id": "_kauRsZsamjz"
      },
      "outputs": [],
      "source": [
        "a = np.random.randn(len(data))\n",
        "plt.hist(a)"
      ]
    },
    {
      "cell_type": "code",
      "execution_count": null,
      "metadata": {
        "id": "3o2oBddyamjz"
      },
      "outputs": [],
      "source": [
        "check = (a<0.8)\n",
        "training = data[check]\n",
        "testing = data[~check]\n",
        "len(training), len(testing)"
      ]
    },
    {
      "cell_type": "markdown",
      "metadata": {
        "id": "7MEb8_x8amjz"
      },
      "source": [
        "#### b) Estimación"
      ]
    },
    {
      "cell_type": "code",
      "execution_count": null,
      "metadata": {
        "id": "XkfrVDJAamj0"
      },
      "outputs": [],
      "source": [
        "lm = smf.ols(formula=\"Sales~TV+Radio\", data=training).fit()\n",
        "print(lm.summary())"
      ]
    },
    {
      "cell_type": "markdown",
      "metadata": {
        "id": "VyUcBnMBamj0"
      },
      "source": [
        "#### c) Validación del modelo con el conjunto de testing"
      ]
    },
    {
      "cell_type": "code",
      "execution_count": null,
      "metadata": {
        "id": "mZ3uefOmamj0"
      },
      "outputs": [],
      "source": [
        "sales_pred = lm.predict(testing)\n",
        "sales_pred"
      ]
    },
    {
      "cell_type": "code",
      "execution_count": null,
      "metadata": {
        "id": "TjrRRh9Samj0"
      },
      "outputs": [],
      "source": [
        "SSD = sum((testing[\"Sales\"]-sales_pred)**2)\n",
        "SSD\n",
        "RSE = np.sqrt(SSD/(len(testing)-2-1))\n",
        "RSE\n",
        "SSD,RSE"
      ]
    },
    {
      "cell_type": "code",
      "execution_count": null,
      "metadata": {
        "id": "0cpvOXtwamj1"
      },
      "outputs": [],
      "source": [
        "sales_mean = np.mean(testing[\"Sales\"])\n",
        "error = RSE/sales_mean\n",
        "error"
      ]
    },
    {
      "cell_type": "code",
      "execution_count": null,
      "metadata": {
        "scrolled": true,
        "id": "dq3mzHk2amj1"
      },
      "outputs": [],
      "source": [
        "%matplotlib inline\n",
        "fig, ax = plt.subplots()\n",
        "ax.set_xlim(-10,300)\n",
        "ax.scatter(testing[\"TV\"], testing[\"Sales\"])\n",
        "ax.scatter(testing[\"TV\"], sales_pred, c=\"red\")"
      ]
    },
    {
      "cell_type": "markdown",
      "metadata": {
        "id": "RcXAde0_amj1"
      },
      "source": [
        "#### d)  El paquete scikit-learn para regresión lineal y la selección de rasgos"
      ]
    },
    {
      "cell_type": "code",
      "execution_count": null,
      "metadata": {
        "id": "-HzF2Mv0amj2"
      },
      "outputs": [],
      "source": [
        "import pandas as pd\n",
        "import numpy as np\n",
        "from sklearn.linear_model import LinearRegression"
      ]
    },
    {
      "cell_type": "code",
      "execution_count": null,
      "metadata": {
        "id": "kMpiWiQ6amj2"
      },
      "outputs": [],
      "source": [
        "data = pd.read_csv(main+\"Advertising.csv\")"
      ]
    },
    {
      "cell_type": "code",
      "execution_count": null,
      "metadata": {
        "id": "HY9-t5_8amj3"
      },
      "outputs": [],
      "source": [
        "feature_cols = [\"TV\", \"Radio\", \"Newspaper\"]"
      ]
    },
    {
      "cell_type": "code",
      "execution_count": null,
      "metadata": {
        "id": "F4cjZMIwamj4"
      },
      "outputs": [],
      "source": [
        "X = data[feature_cols]\n",
        "Y = data[\"Sales\"]"
      ]
    },
    {
      "cell_type": "code",
      "execution_count": null,
      "metadata": {
        "id": "nKzgEuaPamj6"
      },
      "outputs": [],
      "source": [
        "X_pred = X[[\"TV\", \"Radio\"]]"
      ]
    },
    {
      "cell_type": "code",
      "execution_count": null,
      "metadata": {
        "id": "HfUOAlSSamj8"
      },
      "outputs": [],
      "source": [
        "lm = LinearRegression()\n",
        "lm.fit(X_pred, Y)"
      ]
    },
    {
      "cell_type": "code",
      "execution_count": null,
      "metadata": {
        "id": "pWVb01dQamj-"
      },
      "outputs": [],
      "source": [
        "lm.intercept_"
      ]
    },
    {
      "cell_type": "code",
      "execution_count": null,
      "metadata": {
        "id": "ZgCSFj-famkA"
      },
      "outputs": [],
      "source": [
        "lm.coef_"
      ]
    },
    {
      "cell_type": "code",
      "execution_count": null,
      "metadata": {
        "id": "T9OZC5XtamkM"
      },
      "outputs": [],
      "source": [
        "lm.score(X_pred, Y)"
      ]
    }
  ],
  "metadata": {
    "kernelspec": {
      "display_name": "Python 3",
      "language": "python",
      "name": "python3"
    },
    "language_info": {
      "codemirror_mode": {
        "name": "ipython",
        "version": 3
      },
      "file_extension": ".py",
      "mimetype": "text/x-python",
      "name": "python",
      "nbconvert_exporter": "python",
      "pygments_lexer": "ipython3",
      "version": "3.7.4"
    },
    "colab": {
      "provenance": []
    }
  },
  "nbformat": 4,
  "nbformat_minor": 0
}